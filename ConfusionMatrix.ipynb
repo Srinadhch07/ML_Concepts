{
 "cells": [
  {
   "cell_type": "code",
   "execution_count": 2,
   "id": "f9ffcdd8-dfde-418c-b874-a68cbcb6d314",
   "metadata": {},
   "outputs": [
    {
     "name": "stdout",
     "output_type": "stream",
     "text": [
      "Confusion Matrix :  [[ 0 10]\n",
      " [ 8 82]]\n",
      "Accuarcy of model :  0.82\n",
      "Precision of the  matrix model : 0.8913043478260869\n",
      "Sensitivity of matrix model : 0.9111111111111111\n",
      "Specificity of matrix model :  0.0\n",
      "F_score values : 0.9010989010989011\n"
     ]
    },
    {
     "data": {
      "image/png": "[encoded data removed]",
      "text/plain": [
       "<Figure size 640x480 with 2 Axes>"
      ]
     },
     "metadata": {},
     "output_type": "display_data"
    }
   ],
   "source": [
    "import numpy as np\n",
    "from sklearn import metrics\n",
    "import matplotlib.pyplot as plt\n",
    "\n",
    "# Biulding a dataset simulation of logistics regression\n",
    "original_dataset=np.random.binomial(1,0.9,size=100)\n",
    "predicted_dataset=np.random.binomial(1,0.9,size=100)\n",
    "\n",
    "# creating Confusion Matrix\n",
    "matrix=metrics.confusion_matrix(original_dataset,predicted_dataset)\n",
    "'''\n",
    "True Negative (Top-Left Quadrant)\n",
    "False Positive (Top-Right Quadrant)\n",
    "False Negative (Bottom-Left Quadrant)\n",
    "True Positive (Bottom-Right Quadrant)\n",
    "'''\n",
    "print(\"Confusion Matrix : \\n\",matrix) \n",
    "\n",
    "# Till Now we have concentrated on how to build an confusion matrix\n",
    "# Now, we gonna focus how good the matrix is...\n",
    "\n",
    "#Checking the accuracy \n",
    "\n",
    "# Formula : (True Positive + True Negative) / Total Predictions\n",
    "\n",
    "accuracy=metrics.accuracy_score(original_dataset,predicted_dataset)\n",
    "print(\"Accuarcy of model : \",accuracy)\n",
    "\n",
    "#Precision : gives the result of perctange of truly positive\n",
    "\n",
    "#Checking positive\n",
    "\n",
    "precision=metrics.precision_score(original_dataset,predicted_dataset)\n",
    "print(\"Precision of the  matrix model :\",precision)\n",
    "\n",
    "#Sensitivity (Recall) : measures the predicts positives values.\n",
    "# That means the measures both false negatives and true positives\n",
    "\n",
    "# Formula : True Positive / (True Positive + False Negative)\n",
    "\n",
    "recall=metrics.recall_score(original_dataset,predicted_dataset)\n",
    "print(\"Sensitivity of matrix model :\",recall)\n",
    "\n",
    "#Specificity : Specificity is similar to sensitivity, but looks at it from the persepctive of negative results.\n",
    "\n",
    "#How well the model is at prediciting negative results?\n",
    "\n",
    "# Formula : True Negative / (True Negative + False Positive)\n",
    "\n",
    "specificity=metrics.recall_score(original_dataset,predicted_dataset,pos_label=0)\n",
    "#pos_label() is used for predict either positive (use 1) or negative (use 0)\n",
    "print(\"Specificity of matrix model : \",specificity)\n",
    "\n",
    "#F-score : It considers both false positive and false negative cases and is good for imbalanced datasets.\n",
    "\n",
    "# F-score is the \"harmonic mean\" of precision and sensitivity.\n",
    "\n",
    "f_score=metrics.f1_score(original_dataset,predicted_dataset)\n",
    "print(\"F_score values :\",f_score)\n",
    "\n",
    "#Displaying  matrix using CofusionMatrixDisplay()\n",
    "display_matrix=metrics.ConfusionMatrixDisplay(confusion_matrix=matrix,display_labels=[0,1])\n",
    "display_matrix.plot()\n",
    "plt.show()\n"
   ]
  }
 ],
 "metadata": {
  "kernelspec": {
   "display_name": "Python 3 (ipykernel)",
   "language": "python",
   "name": "python3"
  },
  "language_info": {
   "codemirror_mode": {
    "name": "ipython",
    "version": 3
   },
   "file_extension": ".py",
   "mimetype": "text/x-python",
   "name": "python",
   "nbconvert_exporter": "python",
   "pygments_lexer": "ipython3",
   "version": "3.12.1"
  },
  "widgets": {
   "application/vnd.jupyter.widget-state+json": {
    "state": {},
    "version_major": 2,
    "version_minor": 0
   }
  }
 },
 "nbformat": 4,
 "nbformat_minor": 5
}
