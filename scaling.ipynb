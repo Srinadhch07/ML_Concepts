{
 "cells": [
  {
   "cell_type": "code",
   "execution_count": 39,
   "id": "8a76f61d-ff0c-45be-ad52-33333cce9d51",
   "metadata": {},
   "outputs": [
    {
     "name": "stdin",
     "output_type": "stream",
     "text": [
      "Enter Weight :  790\n",
      "Enter Volume :  1000\n"
     ]
    },
    {
     "name": "stdout",
     "output_type": "stream",
     "text": [
      "The Actual Prediction :Emission of CO2 [93.46522516]\n",
      "The Scaled Prediction :Emission of CO2 [93.46522516]\n"
     ]
    },
    {
     "name": "stderr",
     "output_type": "stream",
     "text": [
      "C:\\Users\\SRINADH\\AppData\\Local\\Programs\\Python\\Python312\\Lib\\site-packages\\sklearn\\base.py:493: UserWarning: X does not have valid feature names, but LinearRegression was fitted with feature names\n",
      "  warnings.warn(\n",
      "C:\\Users\\SRINADH\\AppData\\Local\\Programs\\Python\\Python312\\Lib\\site-packages\\sklearn\\base.py:493: UserWarning: X does not have valid feature names, but StandardScaler was fitted with feature names\n",
      "  warnings.warn(\n"
     ]
    }
   ],
   "source": [
    "#Working on scaling process\n",
    "'''\n",
    "Scaling is process of refining the given data.\n",
    "This process helps to convert the format of datasets.\n",
    "\n",
    "Let we read two datasets \n",
    "1. weight \n",
    "2. Distance\n",
    "\n",
    "If Want to predict the speed based on these two. The comparison of weight and distance is difficult.\n",
    "To solve this problem scaling process is used.\n",
    "The weight units are Kgs \n",
    "Distance units are meters.\n",
    "\n",
    "So now scaling we covert this formats into  a  common format\n",
    "\n",
    "The mathematical Representation of scaling process is :\n",
    "\n",
    "Z=(x-u)/s\n",
    "\n",
    "where Z  is new updated data format.\n",
    "        x is actual value in X dataset\n",
    "        u is mean of of the X dataset \n",
    "        s is standard deviation of X dataset.\n",
    "\n",
    "The module sklearn provides predefined method called StandardScaler()\n",
    "This is method converts the datafromat into new Dataset.\n",
    "'''\n",
    "\n",
    "import pandas\n",
    "from sklearn import linear_model\n",
    "from sklearn.preprocessing import StandardScaler\n",
    "import matplotlib.pyplot as plt\n",
    "\n",
    "df=pandas.read_csv(\"data.csv\")\n",
    "values=df[['Weight','Volume']]\n",
    "y=df['CO2']\n",
    "# Building an Regression model\n",
    "model=linear_model.LinearRegression()\n",
    "\n",
    "# Predicting CO2 emssion with actual values\n",
    "model.fit(X,y)\n",
    "weight=eval(input(\"Enter Weight : \"))\n",
    "volume=eval(input(\"Enter Volume : \"))\n",
    "ActualPrediction=model.predict([[weight,volume]])\n",
    "print(\"The Actual Prediction :Emission of CO2\",ActualPrediction,)\n",
    "\n",
    "# Predicting CO2 emission using Scaled Values\n",
    "scale= StandardScaler()\n",
    "scaledvalues=scale.fit_transform(values)\n",
    "model.fit(scaledvalues,y)\n",
    "scaledinput= scale.transform([[weight,volume]])\n",
    "ScaledPrediction=model.predict([scaledinput[0]])\n",
    "print('The Scaled Prediction :Emission of CO2',ScaledPrediction)\n"
   ]
  }
 ],
 "metadata": {
  "kernelspec": {
   "display_name": "Python 3 (ipykernel)",
   "language": "python",
   "name": "python3"
  },
  "language_info": {
   "codemirror_mode": {
    "name": "ipython",
    "version": 3
   },
   "file_extension": ".py",
   "mimetype": "text/x-python",
   "name": "python",
   "nbconvert_exporter": "python",
   "pygments_lexer": "ipython3",
   "version": "3.12.1"
  },
  "widgets": {
   "application/vnd.jupyter.widget-state+json": {
    "state": {},
    "version_major": 2,
    "version_minor": 0
   }
  }
 },
 "nbformat": 4,
 "nbformat_minor": 5
}
