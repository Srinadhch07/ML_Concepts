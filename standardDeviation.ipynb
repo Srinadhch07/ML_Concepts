{
 "cells": [
  {
   "cell_type": "code",
   "execution_count": 12,
   "id": "346918f5-6913-433a-a54c-99d146c3e41f",
   "metadata": {},
   "outputs": [
    {
     "name": "stdout",
     "output_type": "stream",
     "text": [
      "1.9599999999999997\n"
     ]
    }
   ],
   "source": [
    "#Variance\n",
    "import numpy \n",
    "speed =[1,2,3,4,5,2,3,5,2,1]\n",
    "x=numpy.var(speed)\n",
    "print(x)"
   ]
  },
  {
   "cell_type": "code",
   "execution_count": 13,
   "id": "4a54f064-6a26-4269-93fb-66e71e52c7d1",
   "metadata": {},
   "outputs": [
    {
     "name": "stdout",
     "output_type": "stream",
     "text": [
      "1.9599999999999997\n"
     ]
    }
   ],
   "source": [
    "'''\n",
    "Since variance is equal to sqaure root of standard deviation\n",
    "'''\n",
    "import numpy \n",
    "speed =[1,2,3,4,5,2,3,5,2,1]\n",
    "x=numpy.std(speed)\n",
    "print(pow(x,2))\n"
   ]
  },
  {
   "cell_type": "code",
   "execution_count": 19,
   "id": "46db5829-ea89-4834-89bc-30f970b87474",
   "metadata": {},
   "outputs": [
    {
     "name": "stdout",
     "output_type": "stream",
     "text": [
      "1.9600000000000002\n"
     ]
    }
   ],
   "source": [
    "\"\"\"\n",
    "Variation without helping methods\n",
    "\"\"\"\n",
    "speed =[1,2,3,4,5,2,3,5,2,1]\n",
    "diff_avg=0\n",
    "diff=[]\n",
    "avg=0\n",
    "for i in speed:\n",
    "    avg+=i\n",
    "avg/=len(speed)\n",
    "for i  in speed:\n",
    "    diff.append(i-avg)\n",
    "for i in diff:\n",
    "    diff_avg+=pow(i,2)\n",
    "diff_avg/=len(diff)\n",
    "print(diff_avg)"
   ]
  },
  {
   "cell_type": "code",
   "execution_count": 4,
   "id": "25202f67-20c4-4518-8eb9-c91f93d2f99e",
   "metadata": {
    "scrolled": true
   },
   "outputs": [
    {
     "name": "stdout",
     "output_type": "stream",
     "text": [
      "1.4\n"
     ]
    }
   ],
   "source": [
    "#Standard deviation\n",
    "import numpy \n",
    "speed =[1,2,3,4,5,2,3,5,2,1]\n",
    "x=numpy.std(speed)\n",
    "print(x)"
   ]
  }
 ],
 "metadata": {
  "kernelspec": {
   "display_name": "Python 3 (ipykernel)",
   "language": "python",
   "name": "python3"
  },
  "language_info": {
   "codemirror_mode": {
    "name": "ipython",
    "version": 3
   },
   "file_extension": ".py",
   "mimetype": "text/x-python",
   "name": "python",
   "nbconvert_exporter": "python",
   "pygments_lexer": "ipython3",
   "version": "3.12.1"
  },
  "widgets": {
   "application/vnd.jupyter.widget-state+json": {
    "state": {},
    "version_major": 2,
    "version_minor": 0
   }
  }
 },
 "nbformat": 4,
 "nbformat_minor": 5
}
