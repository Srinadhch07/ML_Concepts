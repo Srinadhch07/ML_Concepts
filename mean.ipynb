{
 "cells": [
  {
   "cell_type": "code",
   "execution_count": 8,
   "id": "d30b9e3f-b345-40b0-8495-499b66cf360f",
   "metadata": {},
   "outputs": [
    {
     "name": "stdout",
     "output_type": "stream",
     "text": [
      "mean value of Dataset is  3.625\n"
     ]
    }
   ],
   "source": [
    "import numpy \n",
    "dataset=[1,3,2,4,5,6, 2, 6,]\n",
    "x=numpy.mean(dataset)\n",
    "print(\"mean value of Dataset is \",x)\n"
   ]
  },
  {
   "cell_type": "code",
   "execution_count": 10,
   "id": "18ac93a2-5adf-4f19-80f3-3372f6f50ca5",
   "metadata": {},
   "outputs": [
    {
     "name": "stdout",
     "output_type": "stream",
     "text": [
      "Meadian value of Dataset is  3.5\n"
     ]
    }
   ],
   "source": [
    "import numpy \n",
    "dataset=[1,3,2,4,5,6, 2, 6,]\n",
    "x=numpy.median(dataset)\n",
    "print(\"Meadian value of Dataset is \",x)\n",
    "\n"
   ]
  },
  {
   "cell_type": "code",
   "execution_count": 22,
   "id": "1881f8f6-f478-4fb1-8698-e831a3c854ea",
   "metadata": {},
   "outputs": [
    {
     "name": "stdout",
     "output_type": "stream",
     "text": [
      "Mode value of Dataset is  ModeResult(mode=2, count=2)\n"
     ]
    }
   ],
   "source": [
    "from scipy import stats\n",
    "dataset=[1,3,2,4,5,6, 2, 6,]\n",
    "x=stats.mode(dataset)\n",
    "print(\"Mode value of Dataset is \",x)"
   ]
  }
 ],
 "metadata": {
  "kernelspec": {
   "display_name": "Python 3 (ipykernel)",
   "language": "python",
   "name": "python3"
  },
  "language_info": {
   "codemirror_mode": {
    "name": "ipython",
    "version": 3
   },
   "file_extension": ".py",
   "mimetype": "text/x-python",
   "name": "python",
   "nbconvert_exporter": "python",
   "pygments_lexer": "ipython3",
   "version": "3.12.1"
  },
  "widgets": {
   "application/vnd.jupyter.widget-state+json": {
    "state": {},
    "version_major": 2,
    "version_minor": 0
   }
  }
 },
 "nbformat": 4,
 "nbformat_minor": 5
}
