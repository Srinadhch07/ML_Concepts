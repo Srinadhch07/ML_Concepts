{
  "metadata": {
    "kernelspec": {
      "name": "python",
      "display_name": "Python (Pyodide)",
      "language": "python"
    },
    "language_info": {
      "codemirror_mode": {
        "name": "python",
        "version": 3
      },
      "file_extension": ".py",
      "mimetype": "text/x-python",
      "name": "python",
      "nbconvert_exporter": "python",
      "pygments_lexer": "ipython3",
      "version": "3.8"
    }
  },
  "nbformat_minor": 4,
  "nbformat": 4,
  "cells": [
    {
      "cell_type": "markdown",
      "source": "### Compute Central Tendency and Dispersion Measures",
      "metadata": {}
    },
    {
      "cell_type": "code",
      "source": "import statistics as stats\n\n# Sample Data\ndata = [10, 20, 20, 40, 50, 50, 50, 80, 90]\n\n# Central Tendency\nmean = stats.mean(data)\nmedian = stats.median(data)\nmode = stats.mode(data)\n\n# Dispersion\nvariance = stats.variance(data)\nstd_dev = stats.stdev(data)\n\n# Display Results\nprint(f\"Mean: {mean}\")\nprint(f\"Median: {median}\")\nprint(f\"Mode: {mode}\")\nprint(f\"Variance: {variance}\")\nprint(f\"Standard Deviation: {std_dev}\")\n",
      "metadata": {
        "trusted": true
      },
      "outputs": [
        {
          "name": "stdout",
          "text": "Mean: 45.55555555555556\nMedian: 50\nMode: 50\nVariance: 727.7777777777778\nStandard Deviation: 26.977356760397743\n",
          "output_type": "stream"
        }
      ],
      "execution_count": 1
    },
    {
      "cell_type": "markdown",
      "source": "### Simple Linear Regression",
      "metadata": {}
    },
    {
      "cell_type": "code",
      "source": "import numpy as np\nimport matplotlib.pyplot as plt\nfrom sklearn.linear_model import LinearRegression\n\n# Sample Data\nx = np.array([1, 2, 3, 4, 5]).reshape(-1, 1)\ny = np.array([1, 3, 5, 7, 9])\n\n# Linear Regression Model\nmodel = LinearRegression()\nmodel.fit(x, y)\n\n# Prediction\ny_pred = model.predict(x)\n\n# Plot\nplt.scatter(x, y, color='blue', label='Actual')\nplt.plot(x, y_pred, color='red', label='Predicted')\nplt.legend()\nplt.show()",
      "metadata": {
        "trusted": true
      },
      "outputs": [
        {
          "output_type": "display_data",
          "data": {
            "text/plain": "<Figure size 640x480 with 1 Axes>",
            "image/png": "[encoded data removed]"
          },
          "metadata": {}
        }
      ],
      "execution_count": 3
    },
    {
      "cell_type": "markdown",
      "source": "### Multiple Linear Regression for House Price Prediction",
      "metadata": {}
    },
    {
      "cell_type": "code",
      "source": "from sklearn.linear_model import LinearRegression\nfrom sklearn.model_selection import train_test_split\nfrom sklearn.metrics import mean_squared_error\nimport pandas as pd\n\ndata = pd.DataFrame({\n    \"Size\": [1400, 1600, 1700, 1875],\n    \"Bedrooms\": [3, 3, 4, 3],\n    \"Age\": [20, 15, 18, 12],\n    \"Price\": [245000, 312000, 279000, 308000]\n})\n\nX = data[[\"Size\", \"Bedrooms\", \"Age\"]]\ny = data[\"Price\"]\n\n# Train/Test Split\nX_train, X_test, y_train, y_test = train_test_split(X, y, test_size=0.2)\n\n# Model\nmodel = LinearRegression()\nmodel.fit(X_train, y_train)\n\n# Prediction\ny_pred = model.predict(X_test)\nprint(f\"Mean Squared Error: {mean_squared_error(y_test, y_pred)}\")\n",
      "metadata": {
        "trusted": true
      },
      "outputs": [
        {
          "name": "stderr",
          "text": "<ipython-input-5-04f1b0d55f88>:4: DeprecationWarning: \nPyarrow will become a required dependency of pandas in the next major release of pandas (pandas 3.0),\n(to allow more performant data types, such as the Arrow string type, and better interoperability with other libraries)\nbut was not found to be installed on your system.\nIf this would cause problems for you,\nplease provide us feedback at https://github.com/pandas-dev/pandas/issues/54466\n        \n  import pandas as pd\n",
          "output_type": "stream"
        },
        {
          "name": "stdout",
          "text": "Mean Squared Error: 1419700880.4400368\n",
          "output_type": "stream"
        }
      ],
      "execution_count": 5
    },
    {
      "cell_type": "markdown",
      "source": "### Decision Tree and Parameter Tuning",
      "metadata": {}
    },
    {
      "cell_type": "code",
      "source": "from sklearn.tree import DecisionTreeClassifier\nfrom sklearn.model_selection import GridSearchCV\n\nX = [[1, 1], [2, 2], [3, 3],[4,4],[5,5]]\ny = [0, 0, 1,1,0]\n\n# Decision Tree\nclf = DecisionTreeClassifier()\nparameters = {\"max_depth\": [1, 2, 3], \"criterion\": [\"gini\", \"entropy\"]}\ngrid_search = GridSearchCV(clf, parameters,cv=2)\ngrid_search.fit(X, y)\n\nprint(f\"Best Parameters: {grid_search.best_params_}\")\n",
      "metadata": {
        "trusted": true
      },
      "outputs": [
        {
          "name": "stdout",
          "text": "Best Parameters: {'criterion': 'gini', 'max_depth': 1}\n",
          "output_type": "stream"
        }
      ],
      "execution_count": 13
    },
    {
      "cell_type": "markdown",
      "source": "### K-Nearest Neighbors",
      "metadata": {}
    },
    {
      "cell_type": "code",
      "source": "from sklearn.neighbors import KNeighborsClassifier\n\n# Data\nX = [[1], [2], [3], [6], [7], [8]]\ny = [0, 0, 0, 1, 1, 1]\n\n# KNN Model\nmodel = KNeighborsClassifier(n_neighbors=3)\nmodel.fit(X, y)\n\n# Prediction\nprint(model.predict([[4]]))  \n",
      "metadata": {
        "trusted": true
      },
      "outputs": [
        {
          "name": "stdout",
          "text": "[0]\n",
          "output_type": "stream"
        }
      ],
      "execution_count": 14
    },
    {
      "cell_type": "markdown",
      "source": "###  Logistic Regression",
      "metadata": {}
    },
    {
      "cell_type": "code",
      "source": "from sklearn.linear_model import LogisticRegression\n\n# Data\nX = [[1], [2], [3], [6], [7], [8]]\ny = [0, 0, 0, 1, 1, 1]\n\n# Logistic Regression\nmodel = LogisticRegression()\nmodel.fit(X, y)\n\n# Prediction\nprint(model.predict([[4]]))",
      "metadata": {
        "trusted": true
      },
      "outputs": [
        {
          "name": "stdout",
          "text": "[0]\n",
          "output_type": "stream"
        }
      ],
      "execution_count": 15
    },
    {
      "cell_type": "markdown",
      "source": "### K-Means Clustering",
      "metadata": {}
    },
    {
      "cell_type": "code",
      "source": "from sklearn.cluster import KMeans\nimport numpy as np\nX = np.array([[1, 2], [2, 3], [3, 4], [8, 9], [9, 10], [10, 11]])\n\n# K-Means Clustering\nkmeans = KMeans(n_clusters=2)\nkmeans.fit(X)\n\nprint(f\"Cluster Centers: {kmeans.cluster_centers_}\")",
      "metadata": {
        "trusted": true
      },
      "outputs": [
        {
          "name": "stdout",
          "text": "Cluster Centers: [[ 2.  3.]\n [ 9. 10.]]\n",
          "output_type": "stream"
        }
      ],
      "execution_count": 16
    },
    {
      "cell_type": "markdown",
      "source": "### Performance Analysis of Classification Algorithms (Mini Project)",
      "metadata": {}
    },
    {
      "cell_type": "code",
      "source": "import numpy as np\nimport pandas as pd\nfrom sklearn.datasets import load_iris\nfrom sklearn.model_selection import train_test_split\nfrom sklearn.metrics import accuracy_score, precision_score, recall_score, f1_score\nfrom sklearn.tree import DecisionTreeClassifier\nfrom sklearn.neighbors import KNeighborsClassifier\nfrom sklearn.linear_model import LogisticRegression\n\n# Loading Datsets\ndata = load_iris()\nX = pd.DataFrame(data.data, columns=data.feature_names)\ny = data.target\n\n# Split the data into training and testing sets\nX_train, X_test, y_train, y_test = train_test_split(X, y, test_size=0.2, random_state=42)\n\n# Initialize classifiers\nmodels = {\n    \"Decision Tree\": DecisionTreeClassifier(max_depth=3, random_state=42),\n    \"KNN\": KNeighborsClassifier(n_neighbors=3),\n    \"Logistic Regression\": LogisticRegression(max_iter=200, random_state=42)\n}\n\n# Train and evaluate each model\nresults = []\nfor name, model in models.items():\n    model.fit(X_train, y_train)\n    y_pred = model.predict(X_test)\n\n    # Evaluate metrics\n    accuracy = accuracy_score(y_test, y_pred)\n    precision = precision_score(y_test, y_pred, average=\"weighted\")\n    recall = recall_score(y_test, y_pred, average=\"weighted\")\n    f1 = f1_score(y_test, y_pred, average=\"weighted\")\n\n    results.append({\n        \"Model\": name,\n        \"Accuracy\": accuracy,\n        \"Precision\": precision,\n        \"Recall\": recall,\n        \"F1-Score\": f1\n    })\n\nresults_df = pd.DataFrame(results)\nprint(results_df)\n",
      "metadata": {
        "trusted": true
      },
      "outputs": [
        {
          "name": "stdout",
          "text": "                 Model  Accuracy  Precision  Recall  F1-Score\n0        Decision Tree       1.0        1.0     1.0       1.0\n1                  KNN       1.0        1.0     1.0       1.0\n2  Logistic Regression       1.0        1.0     1.0       1.0\n",
          "output_type": "stream"
        }
      ],
      "execution_count": 17
    }
  ]
}